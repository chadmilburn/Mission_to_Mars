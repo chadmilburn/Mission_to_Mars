{
 "cells": [
  {
   "cell_type": "code",
   "execution_count": 9,
   "metadata": {},
   "outputs": [
    {
     "name": "stdout",
     "output_type": "stream",
     "text": [
      "Requirement already satisfied: nbconvert in c:\\users\\chad\\anaconda\\anaconda3\\envs\\pythondata\\lib\\site-packages (6.0.7)\n",
      "Requirement already satisfied: jinja2>=2.4 in c:\\users\\chad\\anaconda\\anaconda3\\envs\\pythondata\\lib\\site-packages (from nbconvert) (2.11.2)\n",
      "Requirement already satisfied: nbclient<0.6.0,>=0.5.0 in c:\\users\\chad\\anaconda\\anaconda3\\envs\\pythondata\\lib\\site-packages (from nbconvert) (0.5.1)\n",
      "Requirement already satisfied: defusedxml in c:\\users\\chad\\anaconda\\anaconda3\\envs\\pythondata\\lib\\site-packages (from nbconvert) (0.6.0)\n",
      "Requirement already satisfied: nbformat>=4.4 in c:\\users\\chad\\anaconda\\anaconda3\\envs\\pythondata\\lib\\site-packages (from nbconvert) (5.0.8)\n",
      "Requirement already satisfied: pandocfilters>=1.4.1 in c:\\users\\chad\\anaconda\\anaconda3\\envs\\pythondata\\lib\\site-packages (from nbconvert) (1.4.2)\n",
      "Requirement already satisfied: mistune<2,>=0.8.1 in c:\\users\\chad\\anaconda\\anaconda3\\envs\\pythondata\\lib\\site-packages (from nbconvert) (0.8.4)\n",
      "Requirement already satisfied: traitlets>=4.2 in c:\\users\\chad\\anaconda\\anaconda3\\envs\\pythondata\\lib\\site-packages (from nbconvert) (4.3.3)\n",
      "Requirement already satisfied: entrypoints>=0.2.2 in c:\\users\\chad\\anaconda\\anaconda3\\envs\\pythondata\\lib\\site-packages (from nbconvert) (0.3)\n",
      "Requirement already satisfied: jupyter-core in c:\\users\\chad\\anaconda\\anaconda3\\envs\\pythondata\\lib\\site-packages (from nbconvert) (4.6.3)\n",
      "Requirement already satisfied: pygments>=2.4.1 in c:\\users\\chad\\anaconda\\anaconda3\\envs\\pythondata\\lib\\site-packages (from nbconvert) (2.7.1)\n",
      "Requirement already satisfied: bleach in c:\\users\\chad\\anaconda\\anaconda3\\envs\\pythondata\\lib\\site-packages (from nbconvert) (3.2.1)\n",
      "Requirement already satisfied: testpath in c:\\users\\chad\\anaconda\\anaconda3\\envs\\pythondata\\lib\\site-packages (from nbconvert) (0.4.4)\n",
      "Requirement already satisfied: jupyterlab-pygments in c:\\users\\chad\\anaconda\\anaconda3\\envs\\pythondata\\lib\\site-packages (from nbconvert) (0.1.2)\n",
      "Requirement already satisfied: MarkupSafe>=0.23 in c:\\users\\chad\\anaconda\\anaconda3\\envs\\pythondata\\lib\\site-packages (from jinja2>=2.4->nbconvert) (1.1.1)\n",
      "Requirement already satisfied: nest-asyncio in c:\\users\\chad\\anaconda\\anaconda3\\envs\\pythondata\\lib\\site-packages (from nbclient<0.6.0,>=0.5.0->nbconvert) (1.4.1)\n",
      "Requirement already satisfied: async-generator in c:\\users\\chad\\anaconda\\anaconda3\\envs\\pythondata\\lib\\site-packages (from nbclient<0.6.0,>=0.5.0->nbconvert) (1.10)\n",
      "Requirement already satisfied: jupyter-client>=6.1.5 in c:\\users\\chad\\anaconda\\anaconda3\\envs\\pythondata\\lib\\site-packages (from nbclient<0.6.0,>=0.5.0->nbconvert) (6.1.7)\n",
      "Requirement already satisfied: ipython-genutils in c:\\users\\chad\\anaconda\\anaconda3\\envs\\pythondata\\lib\\site-packages (from nbformat>=4.4->nbconvert) (0.2.0)\n",
      "Requirement already satisfied: jsonschema!=2.5.0,>=2.4 in c:\\users\\chad\\anaconda\\anaconda3\\envs\\pythondata\\lib\\site-packages (from nbformat>=4.4->nbconvert) (3.2.0)\n",
      "Requirement already satisfied: decorator in c:\\users\\chad\\anaconda\\anaconda3\\envs\\pythondata\\lib\\site-packages (from traitlets>=4.2->nbconvert) (4.4.2)\n",
      "Requirement already satisfied: six in c:\\users\\chad\\anaconda\\anaconda3\\envs\\pythondata\\lib\\site-packages (from traitlets>=4.2->nbconvert) (1.15.0)\n",
      "Requirement already satisfied: pywin32>=1.0; sys_platform == \"win32\" in c:\\users\\chad\\anaconda\\anaconda3\\envs\\pythondata\\lib\\site-packages (from jupyter-core->nbconvert) (227)\n",
      "Requirement already satisfied: webencodings in c:\\users\\chad\\anaconda\\anaconda3\\envs\\pythondata\\lib\\site-packages (from bleach->nbconvert) (0.5.1)\n",
      "Requirement already satisfied: packaging in c:\\users\\chad\\anaconda\\anaconda3\\envs\\pythondata\\lib\\site-packages (from bleach->nbconvert) (20.4)\n",
      "Requirement already satisfied: python-dateutil>=2.1 in c:\\users\\chad\\anaconda\\anaconda3\\envs\\pythondata\\lib\\site-packages (from jupyter-client>=6.1.5->nbclient<0.6.0,>=0.5.0->nbconvert) (2.8.1)\n",
      "Requirement already satisfied: pyzmq>=13 in c:\\users\\chad\\anaconda\\anaconda3\\envs\\pythondata\\lib\\site-packages (from jupyter-client>=6.1.5->nbclient<0.6.0,>=0.5.0->nbconvert) (19.0.2)\n",
      "Requirement already satisfied: tornado>=4.1 in c:\\users\\chad\\anaconda\\anaconda3\\envs\\pythondata\\lib\\site-packages (from jupyter-client>=6.1.5->nbclient<0.6.0,>=0.5.0->nbconvert) (6.0.4)\n",
      "Requirement already satisfied: setuptools in c:\\users\\chad\\anaconda\\anaconda3\\envs\\pythondata\\lib\\site-packages (from jsonschema!=2.5.0,>=2.4->nbformat>=4.4->nbconvert) (47.3.1.post20200622)\n",
      "Requirement already satisfied: pyrsistent>=0.14.0 in c:\\users\\chad\\anaconda\\anaconda3\\envs\\pythondata\\lib\\site-packages (from jsonschema!=2.5.0,>=2.4->nbformat>=4.4->nbconvert) (0.17.3)\n",
      "Requirement already satisfied: importlib-metadata; python_version < \"3.8\" in c:\\users\\chad\\anaconda\\anaconda3\\envs\\pythondata\\lib\\site-packages (from jsonschema!=2.5.0,>=2.4->nbformat>=4.4->nbconvert) (2.0.0)\n",
      "Requirement already satisfied: attrs>=17.4.0 in c:\\users\\chad\\anaconda\\anaconda3\\envs\\pythondata\\lib\\site-packages (from jsonschema!=2.5.0,>=2.4->nbformat>=4.4->nbconvert) (20.2.0)\n",
      "Requirement already satisfied: pyparsing>=2.0.2 in c:\\users\\chad\\anaconda\\anaconda3\\envs\\pythondata\\lib\\site-packages (from packaging->bleach->nbconvert) (2.4.7)\n",
      "Requirement already satisfied: zipp>=0.5 in c:\\users\\chad\\anaconda\\anaconda3\\envs\\pythondata\\lib\\site-packages (from importlib-metadata; python_version < \"3.8\"->jsonschema!=2.5.0,>=2.4->nbformat>=4.4->nbconvert) (3.3.1)\n"
     ]
    }
   ],
   "source": [
    "! pip install nbconvert"
   ]
  },
  {
   "cell_type": "code",
   "execution_count": 12,
   "metadata": {},
   "outputs": [
    {
     "ename": "SyntaxError",
     "evalue": "invalid syntax (<ipython-input-12-dfaba021242b>, line 1)",
     "output_type": "error",
     "traceback": [
      "\u001b[1;36m  File \u001b[1;32m\"<ipython-input-12-dfaba021242b>\"\u001b[1;36m, line \u001b[1;32m1\u001b[0m\n\u001b[1;33m    ipython nbconvert--to script mission_to_mars1.ipynb\u001b[0m\n\u001b[1;37m                    ^\u001b[0m\n\u001b[1;31mSyntaxError\u001b[0m\u001b[1;31m:\u001b[0m invalid syntax\n"
     ]
    }
   ],
   "source": [
    "ipython nbconvert--to script mission_to_mars1.ipynb"
   ]
  },
  {
   "cell_type": "code",
   "execution_count": null,
   "metadata": {},
   "outputs": [],
   "source": []
  }
 ],
 "metadata": {
  "kernelspec": {
   "display_name": "Python [conda env:PythonData] *",
   "language": "python",
   "name": "conda-env-PythonData-py"
  },
  "language_info": {
   "codemirror_mode": {
    "name": "ipython",
    "version": 3
   },
   "file_extension": ".py",
   "mimetype": "text/x-python",
   "name": "python",
   "nbconvert_exporter": "python",
   "pygments_lexer": "ipython3",
   "version": "3.6.10"
  }
 },
 "nbformat": 4,
 "nbformat_minor": 4
}
