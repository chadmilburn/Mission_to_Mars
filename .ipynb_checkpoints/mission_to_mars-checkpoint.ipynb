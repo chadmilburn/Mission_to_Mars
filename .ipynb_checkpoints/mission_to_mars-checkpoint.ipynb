{
 "cells": [
  {
   "cell_type": "code",
   "execution_count": 1,
   "metadata": {},
   "outputs": [],
   "source": [
    "# import dendencies\n",
    "import pandas as pd\n",
    "import requests\n",
    "import os\n",
    "from bs4 import BeautifulSoup\n",
    "from splinter import Browser\n",
    "from webdriver_manager.chrome import ChromeDriverManager\n"
   ]
  },
  {
   "cell_type": "code",
   "execution_count": 2,
   "metadata": {},
   "outputs": [],
   "source": [
    "# url to scrape\n",
    "url = 'https://mars.nasa.gov/news/'"
   ]
  },
  {
   "cell_type": "code",
   "execution_count": 3,
   "metadata": {},
   "outputs": [],
   "source": [
    "# Retrieve page with the requests module\n",
    "response = requests.get(url)"
   ]
  },
  {
   "cell_type": "code",
   "execution_count": 4,
   "metadata": {},
   "outputs": [],
   "source": [
    "# Create BeautifulSoup object; parse with 'html.parser'\n",
    "soup = BeautifulSoup(response.text, 'html.parser')"
   ]
  },
  {
   "cell_type": "code",
   "execution_count": null,
   "metadata": {},
   "outputs": [],
   "source": [
    "# Examine the results, then determine element that contains sought info\n",
    "print(soup.prettify())"
   ]
  },
  {
   "cell_type": "code",
   "execution_count": 5,
   "metadata": {},
   "outputs": [
    {
     "name": "stderr",
     "output_type": "stream",
     "text": [
      "[WDM] - ====== WebDriver manager ======\n",
      "[WDM] - Current google-chrome version is 88.0.4324\n",
      "[WDM] - Get LATEST driver version for 88.0.4324\n"
     ]
    },
    {
     "name": "stdout",
     "output_type": "stream",
     "text": [
      "\n",
      "\n"
     ]
    },
    {
     "name": "stderr",
     "output_type": "stream",
     "text": [
      "[WDM] - Driver [C:\\Users\\Chad\\.wdm\\drivers\\chromedriver\\win32\\88.0.4324.96\\chromedriver.exe] found in cache\n"
     ]
    }
   ],
   "source": [
    "# Setup splinter\n",
    "executable_path = {'executable_path': ChromeDriverManager().install()}\n",
    "browser = Browser('chrome', **executable_path, headless=False)"
   ]
  },
  {
   "cell_type": "code",
   "execution_count": 6,
   "metadata": {},
   "outputs": [],
   "source": [
    "# splinter url \n",
    "browser.visit(url)"
   ]
  },
  {
   "cell_type": "code",
   "execution_count": null,
   "metadata": {},
   "outputs": [],
   "source": []
  },
  {
   "cell_type": "code",
   "execution_count": 9,
   "metadata": {},
   "outputs": [],
   "source": [
    "#print headlines\n",
    "headlines = soup.find_all('div', class_='content_title')"
   ]
  },
  {
   "cell_type": "code",
   "execution_count": 25,
   "metadata": {},
   "outputs": [
    {
     "name": "stdout",
     "output_type": "stream",
     "text": [
      "[<div class=\"content_title\">\n",
      "<a href=\"/news/8882/nasas-perseverance-drives-on-mars-terrain-for-first-time/\">\n",
      "NASA's Perseverance Drives on Mars' Terrain for First Time\n",
      "</a>\n",
      "</div>, <div class=\"content_title\">\n",
      "<a href=\"/news/8880/nasa-awards-mars-ascent-propulsion-system-contract-for-sample-return/\">\n",
      "NASA Awards Mars Ascent Propulsion System Contract for Sample Return\n",
      "</a>\n",
      "</div>, <div class=\"content_title\">\n",
      "<a href=\"/news/8878/nasa-to-provide-update-on-perseverance-firsts-since-mars-landing/\">\n",
      "NASA to Provide Update on Perseverance ‘Firsts' Since Mars Landing \n",
      "</a>\n",
      "</div>, <div class=\"content_title\">\n",
      "<a href=\"/news/8870/nasas-mars-perseverance-rover-provides-front-row-seat-to-landing-first-audio-recording-of-red-planet/\">\n",
      "NASA's Mars Perseverance Rover Provides Front-Row Seat to Landing, First Audio Recording of Red Planet \n",
      "</a>\n",
      "</div>, <div class=\"content_title\">\n",
      "<a href=\"/news/8868/nasa-to-reveal-new-video-images-from-mars-perseverance-rover/\">\n",
      "NASA to Reveal New Video, Images From Mars Perseverance Rover\n",
      "</a>\n",
      "</div>, <div class=\"content_title\">\n",
      "<a href=\"/news/8860/nasas-next-mars-rover-is-ready-for-the-most-precise-landing-yet/\">\n",
      "NASA's Next Mars Rover Is Ready for the Most Precise Landing Yet\n",
      "</a>\n",
      "</div>]\n"
     ]
    }
   ],
   "source": [
    "print(headlines)"
   ]
  },
  {
   "cell_type": "code",
   "execution_count": 10,
   "metadata": {},
   "outputs": [
    {
     "name": "stdout",
     "output_type": "stream",
     "text": [
      "NASA's Perseverance Drives on Mars' Terrain for First Time\n"
     ]
    }
   ],
   "source": [
    "#store first head line as news_title\n",
    "news_title = headlines[0].text.strip()\n",
    "print(news_title)"
   ]
  },
  {
   "cell_type": "markdown",
   "metadata": {},
   "source": [
    "Find out why this is not working"
   ]
  },
  {
   "cell_type": "code",
   "execution_count": 27,
   "metadata": {},
   "outputs": [],
   "source": [
    "#find first paragraph\n",
    "article_teaser_body = soup.find_all('div', class_=\"article_teaser_body\")"
   ]
  },
  {
   "cell_type": "code",
   "execution_count": 28,
   "metadata": {},
   "outputs": [
    {
     "name": "stdout",
     "output_type": "stream",
     "text": [
      "[]\n"
     ]
    }
   ],
   "source": [
    "print(article_teaser_body)"
   ]
  },
  {
   "cell_type": "code",
   "execution_count": null,
   "metadata": {},
   "outputs": [],
   "source": [
    "#paragraph teaser for\n",
    "<div class=\"article_teaser_body\">The first trek of the agency’s largest, most advanced rover yet on the Red Planet marks a major milestone before science operations get under way.</div>\n",
    "The first trek of the agency’s largest, most advanced rover yet on the Red Planet marks a major milestone before science operations get under way."
   ]
  },
  {
   "cell_type": "code",
   "execution_count": null,
   "metadata": {},
   "outputs": [],
   "source": [
    "#save this for now and find out why above is not working\n",
    "news_p = \"The first trek of the agency’s largest, most advanced rover yet on the Red Planet marks a major milestone before science operations get under way.\""
   ]
  }
 ],
 "metadata": {
  "kernelspec": {
   "display_name": "Python [conda env:PythonData] *",
   "language": "python",
   "name": "conda-env-PythonData-py"
  },
  "language_info": {
   "codemirror_mode": {
    "name": "ipython",
    "version": 3
   },
   "file_extension": ".py",
   "mimetype": "text/x-python",
   "name": "python",
   "nbconvert_exporter": "python",
   "pygments_lexer": "ipython3",
   "version": "3.6.10"
  }
 },
 "nbformat": 4,
 "nbformat_minor": 4
}
